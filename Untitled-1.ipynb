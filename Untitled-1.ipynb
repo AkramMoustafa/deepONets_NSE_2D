{
 "cells": [
  {
   "cell_type": "code",
   "execution_count": null,
   "id": "a8882b83",
   "metadata": {},
   "outputs": [],
   "source": [
    "# Dataset Setup\n"
   ]
  },
  {
   "cell_type": "code",
   "execution_count": null,
   "id": "1f5cfd05",
   "metadata": {},
   "outputs": [],
   "source": [
    "# Define values for u and s and g"
   ]
  },
  {
   "cell_type": "code",
   "execution_count": null,
   "id": "7384bb42",
   "metadata": {},
   "outputs": [],
   "source": [
    "# Branch Net"
   ]
  },
  {
   "cell_type": "code",
   "execution_count": null,
   "id": "0d16544e",
   "metadata": {},
   "outputs": [],
   "source": [
    "# Trunk Net"
   ]
  },
  {
   "cell_type": "code",
   "execution_count": null,
   "id": "d33313b1",
   "metadata": {},
   "outputs": [],
   "source": [
    "# Output: predicted pressure and velocity over time"
   ]
  },
  {
   "cell_type": "code",
   "execution_count": null,
   "id": "3f2558a5",
   "metadata": {},
   "outputs": [],
   "source": [
    "# Visualization and error calculation"
   ]
  }
 ],
 "metadata": {
  "kernelspec": {
   "display_name": "Python (myenv)",
   "language": "python",
   "name": "myenv"
  }
 },
 "nbformat": 4,
 "nbformat_minor": 5
}
